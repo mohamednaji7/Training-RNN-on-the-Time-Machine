{
 "cells": [
  {
   "cell_type": "markdown",
   "metadata": {
    "id": "mmYCdiAmzNuR",
    "tags": []
   },
   "source": [
    "# req"
   ]
  },
  {
   "cell_type": "code",
   "execution_count": 1,
   "metadata": {
    "id": "ePqnmUvIBEuX",
    "tags": []
   },
   "outputs": [],
   "source": [
    "%%capture\n",
    "!pip install d2l==1.0.3\n",
    "!pip install comet_ml"
   ]
  },
  {
   "cell_type": "code",
   "execution_count": 3,
   "metadata": {
    "id": "nyZW2Pt9BLI0",
    "tags": []
   },
   "outputs": [],
   "source": [
    "%matplotlib inline\n",
    "import comet_ml\n",
    "import math\n",
    "import torch\n",
    "import gc\n",
    "from torch import nn\n",
    "from torch.nn import functional as F\n",
    "from d2l import torch as d2l\n"
   ]
  },
  {
   "cell_type": "code",
   "execution_count": 4,
   "metadata": {
    "colab": {
     "base_uri": "https://localhost:8080/"
    },
    "id": "eOnh3YosYeAN",
    "outputId": "5ed460fa-bcb2-4453-f931-cb0b579b3efc",
    "tags": []
   },
   "outputs": [
    {
     "name": "stdin",
     "output_type": "stream",
     "text": [
      "Enter project run index:  sega gpu\n"
     ]
    },
    {
     "name": "stderr",
     "output_type": "stream",
     "text": [
      "\u001b[1;38;5;39mCOMET INFO:\u001b[0m Valid Comet API Key saved in /home/studio-lab-user/.comet.config (set COMET_CONFIG to change where it is saved).\n"
     ]
    }
   ],
   "source": [
    "x = input(\"Enter project run index: \")\n",
    "project_name = f\"d2l-Chapter9-RNN exercises_{x}\"\n",
    "comet_ml.init(project_name=project_name,\n",
    "    api_key = 'Gl5ZHraMgo6O2nFTAOhkwFF0s' )\n",
    "\n",
    "\n"
   ]
  },
  {
   "cell_type": "markdown",
   "metadata": {
    "id": "ejWBIyOfUkxv"
   },
   "source": [
    "# pre-run code"
   ]
  },
  {
   "cell_type": "markdown",
   "metadata": {
    "id": "FAchheB5Ms1X",
    "tags": []
   },
   "source": [
    "## #@save"
   ]
  },
  {
   "cell_type": "code",
   "execution_count": 5,
   "metadata": {
    "id": "uoWu72sNM_vA",
    "tags": []
   },
   "outputs": [],
   "source": [
    "import collections\n",
    "import matplotlib.pyplot as plt\n",
    "from IPython import display\n",
    "import numpy as np\n",
    "@d2l.add_to_class(d2l.Classifier) #3\n",
    "def plot_continous(self, key, value, train):\n",
    "        \"\"\"Plot a point in animation.\"\"\"\n",
    "        assert hasattr(self, 'trainer'), 'Trainer is not inited'\n",
    "\n",
    "        self.board.xlabel = 'epoch'\n",
    "\n",
    "        if train:\n",
    "            x = self.last_x / \\\n",
    "                self.trainer.num_train_batches\n",
    "            n = self.trainer.num_train_batches / \\\n",
    "                self.plot_train_per_epoch\n",
    "        else:\n",
    "            x = self.total_epochs\n",
    "            n = self.trainer.num_val_batches / \\\n",
    "                self.plot_valid_per_epoch\n",
    "\n",
    "        if 1 : self.board.draw(x, d2l.numpy(d2l.to(value, d2l.cpu())),\n",
    "                        ('train_' if train else 'val_') + key,\n",
    "                        every_n=int(n))\n",
    "\n",
    "        # Log the loss\n",
    "        if 1 and hasattr(self, 'experiment_c'):\n",
    "              self.experiment_c.log_metric( ('train_' if train else 'val_') + key + '_c',\n",
    "                  d2l.numpy(d2l.to(value, d2l.cpu())), epoch = self.total_epochs )\n",
    "\n",
    "@d2l.add_to_class(d2l.Classifier)\n",
    "def plot(self, key, value, train):\n",
    "        \"\"\"Plot a point in animation.\"\"\"\n",
    "        assert hasattr(self, 'trainer'), 'Trainer is not inited'\n",
    "        self.total_epochs   = self.total_epochs \\\n",
    "                              if hasattr(self,'total_epochs') else 1\n",
    "        self.epoch_follower = self.epoch_follower \\\n",
    "                              if hasattr(self,'epoch_follower') else 0\n",
    "        if self.trainer.epoch == 0 and self.epoch_follower != 0:\n",
    "          self.total_epochs +=1\n",
    "          self.epoch_follower = 0\n",
    "        if self.trainer.epoch > self.epoch_follower:\n",
    "          self.total_epochs+=1\n",
    "          self.epoch_follower = self.trainer.epoch\n",
    "\n",
    "        self.xlim_0 = self.xlim_0 if hasattr(self,'xlim_0') else 0\n",
    "        self.board.xlim = [self.xlim_0, self.total_epochs]\n",
    "\n",
    "        self.last_x = self.last_x if hasattr(self,'last_x') else 0\n",
    "        self.plot_continous(key, value, train)\n",
    "        self.last_x += 1 if train else 0\n",
    "\n",
    "\n",
    "\n",
    "\n",
    "@d2l.add_to_class(d2l.ProgressBoard)\n",
    "def draw(self, x, y, label, every_n=1):\n",
    "        Point = collections.namedtuple('Point', ['x', 'y'])\n",
    "        if not hasattr(self, 'raw_points'):\n",
    "            self.raw_points = collections.OrderedDict()\n",
    "            self.data = collections.OrderedDict()\n",
    "        if label not in self.raw_points:\n",
    "            self.raw_points[label] = []\n",
    "            self.data[label] = []\n",
    "        points = self.raw_points[label]\n",
    "        line = self.data[label]\n",
    "\n",
    "        points.append(Point(x, y))\n",
    "        if len(points) != every_n:\n",
    "            return\n",
    "        mean = lambda x: sum(x) / len(x)\n",
    "\n",
    "        averaged_point = Point(mean([p.x for p in points]),\n",
    "                          mean([p.y for p in points]))\n",
    "        line.append(averaged_point)\n",
    "        points.clear()\n",
    "        self.last_point = line[-1]  # Update last_point with the last drawn point\n",
    "\n",
    "        if not self.display:\n",
    "            return\n",
    "        if self.fig is None:\n",
    "            self.fig, self.ax = plt.subplots(figsize=self.figsize)\n",
    "        else:\n",
    "            self.ax.clear()\n",
    "\n",
    "        plt_lines, labels = [], []\n",
    "        for (k, v), ls, color in zip(self.data.items(), self.ls, self.colors):\n",
    "            plt_lines.append(self.ax.plot([p.x for p in v], [p.y for p in v],\n",
    "                                          linestyle=ls, color=color)[0])\n",
    "            labels.append(k)\n",
    "        if self.xlim: self.ax.set_xlim(self.xlim)\n",
    "        if self.ylim: self.ax.set_ylim(self.ylim)\n",
    "        if not self.xlabel: self.xlabel = self.x\n",
    "        self.ax.set_xlabel(self.xlabel)\n",
    "        self.ax.set_ylabel(self.ylabel)\n",
    "        self.ax.set_xscale(self.xscale)\n",
    "        self.ax.set_yscale(self.yscale)\n",
    "        self.ax.legend(plt_lines, labels)\n",
    "        display.display(self.fig)\n",
    "        display.clear_output(wait=True)"
   ]
  },
  {
   "cell_type": "markdown",
   "metadata": {
    "id": "w2Gqd06tL6qB"
   },
   "source": [
    "## Done"
   ]
  },
  {
   "cell_type": "code",
   "execution_count": 6,
   "metadata": {
    "id": "V06QDhUtNm1R",
    "tags": []
   },
   "outputs": [],
   "source": [
    "class RNNLMScratch(d2l.Classifier):\n",
    "    def __init__(self, rnn, vocab_size, lr=0.01):\n",
    "        super().__init__()\n",
    "        self.save_hyperparameters()\n",
    "        self.init_params()\n",
    "\n",
    "    def init_params(self):\n",
    "        self.W_hq = nn.Parameter(\n",
    "          torch.randn(self.rnn.num_hiddens, self.vocab_size)*self.rnn.sigma)\n",
    "        self.b_q = nn.Parameter(torch.zeros(self.vocab_size))\n",
    "\n",
    "    def log(self, key, value, train):\n",
    "        # Log the loss\n",
    "        if 1 and hasattr(self, 'experiment'):\n",
    "              self.experiment.log_metric( ('train_' if train else 'val_') + key,\n",
    "                  d2l.numpy(d2l.to(value, d2l.cpu())), epoch = self.trainer.epoch,\n",
    "                  step = self.trainer.train_batch_idx if train else self.trainer.val_batch_idx )\n",
    "\n",
    "    def training_step(self, batch):\n",
    "        l = self.loss(self(*batch[:-1]), batch[-1])\n",
    "        \n",
    "        lmt = torch.log(torch.tensor([1e4]))\n",
    "        lmt2 = torch.log(torch.tensor([1]))\n",
    "\n",
    "        value = lmt if l.item()>lmt or l.item()<lmt2 else l\n",
    "        #print('FLAG!: ', l, value)\n",
    "        \n",
    "        self.plot('ppl', torch.exp(value), train=True)\n",
    "        self.log('ppl', torch.exp(value), train=True)\n",
    "        return l\n",
    "\n",
    "    def validation_step(self, batch):\n",
    "        l = self.loss(self(*batch[:-1]), batch[-1])\n",
    "        \n",
    "        lmt = torch.log(torch.tensor([1e4]))\n",
    "        lmt2 = torch.log(torch.tensor([1]))\n",
    "\n",
    "        value = lmt if l.item()>lmt or l.item()<lmt2 else l\n",
    "        #print('FLAG!: ', l, value)\n",
    "        \n",
    "        \n",
    "        self.plot('ppl', torch.exp(value), train=False)\n",
    "        self.log('ppl', torch.exp(value), train=False)\n",
    "\n",
    "\n"
   ]
  },
  {
   "cell_type": "code",
   "execution_count": 7,
   "metadata": {
    "id": "7JKL6R21Fn2g",
    "tags": []
   },
   "outputs": [],
   "source": [
    "@d2l.add_to_class(RNNLMScratch)  #@\n",
    "def one_hot(self, X):\n",
    "    # Output shape: (num_steps, batch_size, vocab_size)\n",
    "    return F.one_hot(X.T, self.vocab_size).type(torch.float32)\n"
   ]
  },
  {
   "cell_type": "code",
   "execution_count": 8,
   "metadata": {
    "id": "dUEleqtkCeqs",
    "tags": []
   },
   "outputs": [],
   "source": [
    "@d2l.add_to_class(RNNLMScratch)\n",
    "def forward(self, X, state=None):# input shape: (batch_size, num_steps)\n",
    "    embs = self.one_hot(X)\n",
    "    # Output shape: (num_steps, batch_size, vocab_size)\n",
    "    rnn_outputs, _ = self.rnn(embs, state)\n",
    "    return self.output_layer(rnn_outputs)"
   ]
  },
  {
   "cell_type": "code",
   "execution_count": 9,
   "metadata": {
    "id": "ONJtY7UtzhJ6",
    "tags": []
   },
   "outputs": [],
   "source": [
    "@d2l.add_to_class(RNNLMScratch)\n",
    "def output_layer(self, rnn_outputs):\n",
    "    outputs = [H_t @ self.W_hq + self.b_q for H_t in rnn_outputs]\n",
    "    #outputs[i] : (batch_size, q/vocab_size/o)\n",
    "    return torch.stack(outputs, 1) # (batch_size, T, q)\n"
   ]
  },
  {
   "cell_type": "code",
   "execution_count": 10,
   "metadata": {
    "id": "iuehGsSM5Moq",
    "tags": []
   },
   "outputs": [],
   "source": [
    "@d2l.add_to_class(d2l.Trainer)\n",
    "def clip_gradients(self, grad_clip_val, model):\n",
    "    params = [p for p in model.parameters() if p.requires_grad]\n",
    "    norm = torch.sqrt(sum(torch.sum((p.grad ** 2)) for p in params))\n",
    "    if norm > grad_clip_val:\n",
    "        for param in params:\n",
    "            param.grad[:] *= grad_clip_val / norm\n"
   ]
  },
  {
   "cell_type": "code",
   "execution_count": 11,
   "metadata": {
    "id": "PF3w9oPCLI8N",
    "tags": []
   },
   "outputs": [],
   "source": [
    "@d2l.add_to_class(RNNLMScratch)\n",
    "def predict(self, prefix, num_preds, vocab, device=None):\n",
    "    state, outputs = None, [vocab[prefix[0]]]\n",
    "    #warm-up state\n",
    "    for i in range(len(prefix)-1):\n",
    "        X = torch.tensor([[outputs[-1]]], device=device)\n",
    "        embs = F.one_hot(X.T, self.vocab_size).type(torch.float32)\n",
    "        _, state = self.rnn(embs, state)\n",
    "        outputs.append(vocab[prefix[i+1]])\n",
    "    #predict\n",
    "    for i in range(num_preds):\n",
    "        X = torch.tensor([[outputs[-1]]], device=device)\n",
    "        embs = F.one_hot(X.T, self.vocab_size).type(torch.float32)\n",
    "        rnn_outputs, state = self.rnn(embs, state)\n",
    "        Y = self.output_layer(rnn_outputs)\n",
    "        outputs.append(int(Y.argmax(axis=2).reshape(1)))\n",
    "    return ''.join([vocab.idx_to_token[i] for i in outputs])\n",
    "\n",
    "\n"
   ]
  },
  {
   "cell_type": "markdown",
   "metadata": {
    "id": "Gcmw-8TvMcQY"
   },
   "source": [
    "# to build"
   ]
  },
  {
   "cell_type": "markdown",
   "metadata": {
    "id": "D6Dntv84U53O"
   },
   "source": [
    "## Model"
   ]
  },
  {
   "cell_type": "code",
   "execution_count": 12,
   "metadata": {
    "id": "Pnnryx2YvnhM",
    "tags": []
   },
   "outputs": [],
   "source": [
    "class RNNLM(RNNLMScratch):\n",
    "    \"\"\"The RNN-based language model implemented with high-level APIs.\"\"\"\n",
    "    def init_params(self):\n",
    "        self.linear = nn.LazyLinear(self.vocab_size)\n",
    "\n",
    "    def output_layer(self, hiddens):\n",
    "        return self.linear(hiddens).swapaxes(0, 1)\n"
   ]
  },
  {
   "cell_type": "markdown",
   "metadata": {
    "id": "Us1ScOuNVHau"
   },
   "source": [
    "### initiate"
   ]
  },
  {
   "cell_type": "code",
   "execution_count": 12,
   "metadata": {
    "id": "0nlCWQhQVKHW",
    "tags": []
   },
   "outputs": [],
   "source": [
    "batch_size,  num_hiddens, num_steps = 1024, 32, 32\n",
    "lr=1\n",
    "rnn_type = 'nn.RNN'\n",
    "rnn_train_type =  'partioning'\n",
    "gradient_clip_val = 1\n",
    "data = d2l.TimeMachine(batch_size=batch_size, num_steps=num_steps)\n",
    "hyper_para = {\n",
    "    'batch_size': batch_size,\n",
    "    'num_steps': num_steps,\n",
    "    'lr': lr,\n",
    "    'num_hiddens': num_hiddens,\n",
    "    'rnn_type': rnn_type,\n",
    "    'rnn_train_type': rnn_train_type,\n",
    "    'data_vocab_size': len(data.vocab)\n",
    "}\n"
   ]
  },
  {
   "cell_type": "code",
   "execution_count": 13,
   "metadata": {
    "colab": {
     "base_uri": "https://localhost:8080/"
    },
    "id": "cGaeZNOj6P3e",
    "outputId": "052df75d-3e25-4aa5-9a03-1956bd041975",
    "tags": []
   },
   "outputs": [
    {
     "name": "stderr",
     "output_type": "stream",
     "text": [
      "/home/studio-lab-user/.conda/envs/d2l/lib/python3.9/site-packages/torch/nn/modules/lazy.py:175: UserWarning: Lazy modules are a new feature under heavy development so changes to the API or functionality can happen at any moment.\n",
      "  warnings.warn('Lazy modules are a new feature under heavy development '\n",
      "\u001b[1;38;5;214mCOMET WARNING:\u001b[0m As you are running in a Jupyter environment, you will need to call `experiment.end()` when finished to ensure all metrics and code are logged before exiting.\n",
      "\u001b[1;38;5;39mCOMET INFO:\u001b[0m Experiment is live on comet.com https://www.comet.com/mohamednaji7/d2l-chapter9-rnn-exercises-sega-gpu-2nd/df597326a6d64fc0873d50bec3f5b0b7\n",
      "\n",
      "\u001b[1;38;5;39mCOMET INFO:\u001b[0m Couldn't find a Git repository in '/home/studio-lab-user/Untitled Folder' nor in any parent directory. Set `COMET_GIT_DIRECTORY` if your Git Repository is elsewhere.\n"
     ]
    }
   ],
   "source": [
    "rnn = nn.RNN(len(data.vocab), num_hiddens)\n",
    "model = RNNLM(rnn, vocab_size=len(data.vocab), lr=lr)\n",
    "model.board.figsize = (15, 3.5)\n",
    "\n",
    "random_i = torch.randint(0, 100, size=(1,))[0]\n",
    "#random_i = 10101\n",
    "exp_name = f'{lr}{rnn_type}{num_hiddens}{rnn_train_type}{num_steps}_{random_i}'\n",
    "\n",
    "experiment = comet_ml.Experiment()\n",
    "experiment.set_name(exp_name)\n",
    "experiment.log_parameters(hyper_para)\n"
   ]
  },
  {
   "cell_type": "markdown",
   "metadata": {
    "id": "1_NCf8b4V8BJ"
   },
   "source": [
    "### fit"
   ]
  },
  {
   "cell_type": "code",
   "execution_count": 14,
   "metadata": {
    "id": "4qWG5So7AsbX",
    "tags": []
   },
   "outputs": [],
   "source": [
    "model.experiment = experiment\n"
   ]
  },
  {
   "cell_type": "code",
   "execution_count": 15,
   "metadata": {
    "colab": {
     "base_uri": "https://localhost:8080/",
     "height": 0
    },
    "id": "qnAri0At2zwj",
    "outputId": "d7f0a7ad-0be1-4ec9-dc1e-b737014afc39",
    "tags": []
   },
   "outputs": [
    {
     "data": {
      "image/png": "[encoded data removed]",
      "text/plain": [
       "<Figure size 1500x350 with 1 Axes>"
      ]
     },
     "metadata": {},
     "output_type": "display_data"
    }
   ],
   "source": [
    "model.xlim_0 = 0\n",
    "\n",
    "max_epochs = 100\n",
    "trainer = d2l.Trainer(max_epochs=max_epochs, gradient_clip_val=gradient_clip_val, num_gpus=1)\n",
    "trainer.fit(model, data)\n"
   ]
  },
  {
   "cell_type": "code",
   "execution_count": null,
   "metadata": {},
   "outputs": [],
   "source": []
  },
  {
   "cell_type": "code",
   "execution_count": 16,
   "metadata": {},
   "outputs": [
    {
     "data": {
      "text/plain": [
       "{'web': 'https://www.comet.com/api/asset/download?assetId=586a1f9a77804d889712873087c6c8d4&experimentKey=df597326a6d64fc0873d50bec3f5b0b7',\n",
       " 'api': 'https://www.comet.com/api/rest/v2/experiment/asset/get-asset?assetId=586a1f9a77804d889712873087c6c8d4&experimentKey=df597326a6d64fc0873d50bec3f5b0b7',\n",
       " 'assetId': '586a1f9a77804d889712873087c6c8d4'}"
      ]
     },
     "execution_count": 16,
     "metadata": {},
     "output_type": "execute_result"
    }
   ],
   "source": [
    "experiment.log_text(model.predict('it has',     40, data.vocab, d2l.try_gpu()))\n",
    "experiment.log_text(model.predict('i love you', 25, data.vocab, d2l.try_gpu()))"
   ]
  },
  {
   "cell_type": "code",
   "execution_count": 17,
   "metadata": {
    "colab": {
     "base_uri": "https://localhost:8080/"
    },
    "id": "cixYzceUHeKO",
    "outputId": "0af016ae-b925-4608-970d-b77167b66253",
    "tags": []
   },
   "outputs": [
    {
     "name": "stderr",
     "output_type": "stream",
     "text": [
      "\u001b[1;38;5;39mCOMET INFO:\u001b[0m ---------------------------------------------------------------------------------------\n",
      "\u001b[1;38;5;39mCOMET INFO:\u001b[0m Comet.ml Experiment Summary\n",
      "\u001b[1;38;5;39mCOMET INFO:\u001b[0m ---------------------------------------------------------------------------------------\n",
      "\u001b[1;38;5;39mCOMET INFO:\u001b[0m   Data:\n",
      "\u001b[1;38;5;39mCOMET INFO:\u001b[0m     display_summary_level : 1\n",
      "\u001b[1;38;5;39mCOMET INFO:\u001b[0m     name                  : 1nn.RNN32partioning32_20\n",
      "\u001b[1;38;5;39mCOMET INFO:\u001b[0m     url                   : https://www.comet.com/mohamednaji7/d2l-chapter9-rnn-exercises-sega-gpu-2nd/df597326a6d64fc0873d50bec3f5b0b7\n",
      "\u001b[1;38;5;39mCOMET INFO:\u001b[0m   Metrics [count] (min, max):\n",
      "\u001b[1;38;5;39mCOMET INFO:\u001b[0m     loss [201]       : (1.7557423114776611, 3.389176845550537)\n",
      "\u001b[1;38;5;39mCOMET INFO:\u001b[0m     train_ppl [1000] : (5.787742614746094, 29.641542434692383)\n",
      "\u001b[1;38;5;39mCOMET INFO:\u001b[0m     val_ppl [500]    : (6.126783847808838, 17.102792739868164)\n",
      "\u001b[1;38;5;39mCOMET INFO:\u001b[0m   Others:\n",
      "\u001b[1;38;5;39mCOMET INFO:\u001b[0m     Name : 1nn.RNN32partioning32_20\n",
      "\u001b[1;38;5;39mCOMET INFO:\u001b[0m   Parameters:\n",
      "\u001b[1;38;5;39mCOMET INFO:\u001b[0m     batch_size      : 1024\n",
      "\u001b[1;38;5;39mCOMET INFO:\u001b[0m     data_vocab_size : 28\n",
      "\u001b[1;38;5;39mCOMET INFO:\u001b[0m     lr              : 1\n",
      "\u001b[1;38;5;39mCOMET INFO:\u001b[0m     num_hiddens     : 32\n",
      "\u001b[1;38;5;39mCOMET INFO:\u001b[0m     num_steps       : 32\n",
      "\u001b[1;38;5;39mCOMET INFO:\u001b[0m     rnn_train_type  : partioning\n",
      "\u001b[1;38;5;39mCOMET INFO:\u001b[0m     rnn_type        : nn.RNN\n",
      "\u001b[1;38;5;39mCOMET INFO:\u001b[0m   Uploads:\n",
      "\u001b[1;38;5;39mCOMET INFO:\u001b[0m     conda-environment-definition : 1\n",
      "\u001b[1;38;5;39mCOMET INFO:\u001b[0m     conda-info                   : 1\n",
      "\u001b[1;38;5;39mCOMET INFO:\u001b[0m     conda-specification          : 1\n",
      "\u001b[1;38;5;39mCOMET INFO:\u001b[0m     environment details          : 1\n",
      "\u001b[1;38;5;39mCOMET INFO:\u001b[0m     filename                     : 1\n",
      "\u001b[1;38;5;39mCOMET INFO:\u001b[0m     installed packages           : 1\n",
      "\u001b[1;38;5;39mCOMET INFO:\u001b[0m     notebook                     : 1\n",
      "\u001b[1;38;5;39mCOMET INFO:\u001b[0m     os packages                  : 1\n",
      "\u001b[1;38;5;39mCOMET INFO:\u001b[0m     source_code                  : 1\n",
      "\u001b[1;38;5;39mCOMET INFO:\u001b[0m     text-sample                  : 2\n",
      "\u001b[1;38;5;39mCOMET INFO:\u001b[0m \n"
     ]
    }
   ],
   "source": [
    "experiment.end()"
   ]
  },
  {
   "cell_type": "code",
   "execution_count": 18,
   "metadata": {
    "colab": {
     "base_uri": "https://localhost:8080/",
     "height": 35
    },
    "id": "sMOnl-kq6fWD",
    "outputId": "b1b08325-7fc1-4a65-a018-70a0544dad33",
    "tags": []
   },
   "outputs": [
    {
     "data": {
      "text/plain": [
       "'i love you the the the the the the '"
      ]
     },
     "execution_count": 18,
     "metadata": {},
     "output_type": "execute_result"
    }
   ],
   "source": [
    "model.predict('i love you', 25, data.vocab, d2l.try_gpu())"
   ]
  },
  {
   "cell_type": "code",
   "execution_count": 19,
   "metadata": {
    "colab": {
     "base_uri": "https://localhost:8080/",
     "height": 35
    },
    "id": "6pigWwyLsUmM",
    "outputId": "0909a6e0-dfa0-4a14-c3b6-ed5ed9c57057",
    "tags": []
   },
   "outputs": [
    {
     "data": {
      "text/plain": [
       "'it has and the the the the the the the the the'"
      ]
     },
     "execution_count": 19,
     "metadata": {},
     "output_type": "execute_result"
    }
   ],
   "source": [
    "model.predict('it has', 40, data.vocab, d2l.try_gpu())"
   ]
  },
  {
   "cell_type": "code",
   "execution_count": null,
   "metadata": {
    "id": "eKnhV59VHuXW"
   },
   "outputs": [],
   "source": []
  },
  {
   "cell_type": "markdown",
   "metadata": {
    "id": "ub1ZN_XUKHvs"
   },
   "source": [
    "\n",
    "## Exercises\n"
   ]
  },
  {
   "cell_type": "markdown",
   "metadata": {
    "id": "o-QWH1KtKPaq"
   },
   "source": [
    "### 1. Run the code in this section without clipping the gradient. What happens?"
   ]
  },
  {
   "cell_type": "code",
   "execution_count": 20,
   "metadata": {
    "colab": {
     "base_uri": "https://localhost:8080/",
     "height": 905
    },
    "id": "aDzKq-QqSQGr",
    "outputId": "ee113dc9-793d-4dde-8a3d-28ff2060b768",
    "tags": []
   },
   "outputs": [
    {
     "name": "stderr",
     "output_type": "stream",
     "text": [
      "\u001b[1;38;5;39mCOMET INFO:\u001b[0m ---------------------------------------------------------------------------------------\n",
      "\u001b[1;38;5;39mCOMET INFO:\u001b[0m Comet.ml Experiment Summary\n",
      "\u001b[1;38;5;39mCOMET INFO:\u001b[0m ---------------------------------------------------------------------------------------\n",
      "\u001b[1;38;5;39mCOMET INFO:\u001b[0m   Data:\n",
      "\u001b[1;38;5;39mCOMET INFO:\u001b[0m     display_summary_level : 1\n",
      "\u001b[1;38;5;39mCOMET INFO:\u001b[0m     name                  : without clipping 90\n",
      "\u001b[1;38;5;39mCOMET INFO:\u001b[0m     url                   : https://www.comet.com/mohamednaji7/d2l-chapter9-rnn-exercises-sega-gpu-2nd/1633f0cf68d84ff8ac20532179b7d2ad\n",
      "\u001b[1;38;5;39mCOMET INFO:\u001b[0m   Metrics [count] (min, max):\n",
      "\u001b[1;38;5;39mCOMET INFO:\u001b[0m     loss [201]       : (1.7533968687057495, 3.373371124267578)\n",
      "\u001b[1;38;5;39mCOMET INFO:\u001b[0m     train_ppl [1000] : (5.700375080108643, 29.176719665527344)\n",
      "\u001b[1;38;5;39mCOMET INFO:\u001b[0m     val_ppl [500]    : (6.13746976852417, 17.239463806152344)\n",
      "\u001b[1;38;5;39mCOMET INFO:\u001b[0m   Others:\n",
      "\u001b[1;38;5;39mCOMET INFO:\u001b[0m     Name : without clipping 90\n",
      "\u001b[1;38;5;39mCOMET INFO:\u001b[0m   Parameters:\n",
      "\u001b[1;38;5;39mCOMET INFO:\u001b[0m     batch_size      : 1024\n",
      "\u001b[1;38;5;39mCOMET INFO:\u001b[0m     data_vocab_size : 28\n",
      "\u001b[1;38;5;39mCOMET INFO:\u001b[0m     lr              : 1\n",
      "\u001b[1;38;5;39mCOMET INFO:\u001b[0m     num_hiddens     : 32\n",
      "\u001b[1;38;5;39mCOMET INFO:\u001b[0m     num_steps       : 32\n",
      "\u001b[1;38;5;39mCOMET INFO:\u001b[0m     rnn_train_type  : partioning\n",
      "\u001b[1;38;5;39mCOMET INFO:\u001b[0m     rnn_type        : nn.RNN\n",
      "\u001b[1;38;5;39mCOMET INFO:\u001b[0m   Uploads:\n",
      "\u001b[1;38;5;39mCOMET INFO:\u001b[0m     conda-environment-definition : 1\n",
      "\u001b[1;38;5;39mCOMET INFO:\u001b[0m     conda-info                   : 1\n",
      "\u001b[1;38;5;39mCOMET INFO:\u001b[0m     conda-specification          : 1\n",
      "\u001b[1;38;5;39mCOMET INFO:\u001b[0m     environment details          : 1\n",
      "\u001b[1;38;5;39mCOMET INFO:\u001b[0m     filename                     : 1\n",
      "\u001b[1;38;5;39mCOMET INFO:\u001b[0m     installed packages           : 1\n",
      "\u001b[1;38;5;39mCOMET INFO:\u001b[0m     notebook                     : 1\n",
      "\u001b[1;38;5;39mCOMET INFO:\u001b[0m     os packages                  : 1\n",
      "\u001b[1;38;5;39mCOMET INFO:\u001b[0m     source_code                  : 1\n",
      "\u001b[1;38;5;39mCOMET INFO:\u001b[0m     text-sample                  : 2\n",
      "\u001b[1;38;5;39mCOMET INFO:\u001b[0m \n"
     ]
    },
    {
     "data": {
      "text/plain": [
       "'i love you and the the the the the '"
      ]
     },
     "execution_count": 20,
     "metadata": {},
     "output_type": "execute_result"
    },
    {
     "data": {
      "image/png": "[encoded data removed]",
      "text/plain": [
       "<Figure size 1500x350 with 1 Axes>"
      ]
     },
     "metadata": {},
     "output_type": "display_data"
    }
   ],
   "source": [
    "batch_size,  num_hiddens, num_steps = 1024, 32, 32\n",
    "lr=1\n",
    "rnn_type = 'nn.RNN'\n",
    "rnn_train_type =  'partioning'\n",
    "gradient_clip_val = 0\n",
    "data = d2l.TimeMachine(batch_size=batch_size, num_steps=num_steps)\n",
    "hyper_para = {\n",
    "    'batch_size': batch_size,\n",
    "    'num_steps': num_steps,\n",
    "    'lr': lr,\n",
    "    'num_hiddens': num_hiddens,\n",
    "    'rnn_type': rnn_type,\n",
    "    'rnn_train_type': rnn_train_type,\n",
    "    'data_vocab_size': len(data.vocab)\n",
    "}\n",
    "\n",
    "rnn = nn.RNN(len(data.vocab), num_hiddens)\n",
    "model = RNNLM(rnn, vocab_size=len(data.vocab), lr=lr)\n",
    "\n",
    "random_i = torch.randint(0, 100, size=(1,))[0]\n",
    "#random_i = 1022\n",
    "exp_name = \"without clipping\"\n",
    "exp_name = f'{exp_name} {random_i}'\n",
    "experiment = comet_ml.Experiment()\n",
    "experiment.set_name(exp_name)\n",
    "experiment.log_parameters(hyper_para)\n",
    "model.experiment = experiment\n",
    "\n",
    "model.xlim_0 = 1\n",
    "\n",
    "model.board.figsize = (15, 3.5)\n",
    "\n",
    "\n",
    "max_epochs = 100\n",
    "trainer = d2l.Trainer(max_epochs=max_epochs, gradient_clip_val=gradient_clip_val, num_gpus=1)\n",
    "trainer.fit(model, data)\n",
    "\n",
    "experiment.log_text(model.predict('it has',     40, data.vocab, d2l.try_gpu()))\n",
    "experiment.log_text(model.predict('i love you', 25, data.vocab, d2l.try_gpu()))\n",
    "\n",
    "experiment.end()\n",
    "\n",
    "model.predict('it has', 40, data.vocab, d2l.try_gpu())\n",
    "model.predict('i love you', 25, data.vocab, d2l.try_gpu())"
   ]
  },
  {
   "cell_type": "code",
   "execution_count": 21,
   "metadata": {
    "colab": {
     "base_uri": "https://localhost:8080/",
     "height": 35
    },
    "id": "i2OxtUVjal4E",
    "outputId": "28bf143c-e9fe-44e9-c5eb-8fd04c253347",
    "tags": []
   },
   "outputs": [
    {
     "data": {
      "text/plain": [
       "'it has and the the the the the the the the the'"
      ]
     },
     "execution_count": 21,
     "metadata": {},
     "output_type": "execute_result"
    }
   ],
   "source": [
    "\n",
    "model.predict('it has', 40, data.vocab, d2l.try_gpu())\n"
   ]
  },
  {
   "cell_type": "markdown",
   "metadata": {
    "id": "ls6fR012bGR9"
   },
   "source": [
    "### 1. Replace the activation function used in this section with ReLU and repeat the experiments in this section. Do we still need gradient clipping? Why?"
   ]
  },
  {
   "cell_type": "code",
   "execution_count": 22,
   "metadata": {
    "colab": {
     "base_uri": "https://localhost:8080/",
     "height": 688
    },
    "id": "cvjix7y7R4a8",
    "outputId": "b07bfd15-7359-46b6-8938-06ad44a9f863",
    "tags": []
   },
   "outputs": [
    {
     "name": "stderr",
     "output_type": "stream",
     "text": [
      "\u001b[1;38;5;39mCOMET INFO:\u001b[0m ---------------------------------------------------------------------------------------\n",
      "\u001b[1;38;5;39mCOMET INFO:\u001b[0m Comet.ml Experiment Summary\n",
      "\u001b[1;38;5;39mCOMET INFO:\u001b[0m ---------------------------------------------------------------------------------------\n",
      "\u001b[1;38;5;39mCOMET INFO:\u001b[0m   Data:\n",
      "\u001b[1;38;5;39mCOMET INFO:\u001b[0m     display_summary_level : 1\n",
      "\u001b[1;38;5;39mCOMET INFO:\u001b[0m     name                  : 1nn.RNN_relu32partioning32_1\n",
      "\u001b[1;38;5;39mCOMET INFO:\u001b[0m     url                   : https://www.comet.com/mohamednaji7/d2l-chapter9-rnn-exercises-sega-gpu-2nd/209921f815d741a28a3fbdf576128c0f\n",
      "\u001b[1;38;5;39mCOMET INFO:\u001b[0m   Metrics [count] (min, max):\n",
      "\u001b[1;38;5;39mCOMET INFO:\u001b[0m     loss [201]       : (1.7952558994293213, 3.3841323852539062)\n",
      "\u001b[1;38;5;39mCOMET INFO:\u001b[0m     train_ppl [1000] : (5.978205680847168, 29.49239158630371)\n",
      "\u001b[1;38;5;39mCOMET INFO:\u001b[0m     val_ppl [500]    : (6.4198808670043945, 18.528310775756836)\n",
      "\u001b[1;38;5;39mCOMET INFO:\u001b[0m   Others:\n",
      "\u001b[1;38;5;39mCOMET INFO:\u001b[0m     Name : 1nn.RNN_relu32partioning32_1\n",
      "\u001b[1;38;5;39mCOMET INFO:\u001b[0m   Parameters:\n",
      "\u001b[1;38;5;39mCOMET INFO:\u001b[0m     batch_size      : 1024\n",
      "\u001b[1;38;5;39mCOMET INFO:\u001b[0m     data_vocab_size : 28\n",
      "\u001b[1;38;5;39mCOMET INFO:\u001b[0m     lr              : 1\n",
      "\u001b[1;38;5;39mCOMET INFO:\u001b[0m     num_hiddens     : 32\n",
      "\u001b[1;38;5;39mCOMET INFO:\u001b[0m     num_steps       : 32\n",
      "\u001b[1;38;5;39mCOMET INFO:\u001b[0m     rnn_train_type  : partioning\n",
      "\u001b[1;38;5;39mCOMET INFO:\u001b[0m     rnn_type        : nn.RNN_relu\n",
      "\u001b[1;38;5;39mCOMET INFO:\u001b[0m   Uploads:\n",
      "\u001b[1;38;5;39mCOMET INFO:\u001b[0m     conda-environment-definition : 1\n",
      "\u001b[1;38;5;39mCOMET INFO:\u001b[0m     conda-info                   : 1\n",
      "\u001b[1;38;5;39mCOMET INFO:\u001b[0m     conda-specification          : 1\n",
      "\u001b[1;38;5;39mCOMET INFO:\u001b[0m     environment details          : 1\n",
      "\u001b[1;38;5;39mCOMET INFO:\u001b[0m     filename                     : 1\n",
      "\u001b[1;38;5;39mCOMET INFO:\u001b[0m     installed packages           : 1\n",
      "\u001b[1;38;5;39mCOMET INFO:\u001b[0m     notebook                     : 1\n",
      "\u001b[1;38;5;39mCOMET INFO:\u001b[0m     os packages                  : 1\n",
      "\u001b[1;38;5;39mCOMET INFO:\u001b[0m     source_code                  : 1\n",
      "\u001b[1;38;5;39mCOMET INFO:\u001b[0m     text-sample                  : 2\n",
      "\u001b[1;38;5;39mCOMET INFO:\u001b[0m \n"
     ]
    },
    {
     "data": {
      "text/plain": [
       "'i love you the time the time travel'"
      ]
     },
     "execution_count": 22,
     "metadata": {},
     "output_type": "execute_result"
    },
    {
     "data": {
      "image/png": "[encoded data removed]",
      "text/plain": [
       "<Figure size 1500x350 with 1 Axes>"
      ]
     },
     "metadata": {},
     "output_type": "display_data"
    }
   ],
   "source": [
    "batch_size,  num_hiddens, num_steps = 1024, 32, 32\n",
    "lr=1\n",
    "rnn_type = 'nn.RNN_relu'\n",
    "rnn_train_type =  'partioning'\n",
    "gradient_clip_val = 0\n",
    "data = d2l.TimeMachine(batch_size=batch_size, num_steps=num_steps)\n",
    "hyper_para = {\n",
    "    'batch_size': batch_size,\n",
    "    'num_steps': num_steps,\n",
    "    'lr': lr,\n",
    "    'num_hiddens': num_hiddens,\n",
    "    'rnn_type': rnn_type,\n",
    "    'rnn_train_type': rnn_train_type,\n",
    "    'data_vocab_size': len(data.vocab)\n",
    "}\n",
    "\n",
    "rnn = nn.RNN(len(data.vocab), num_hiddens, nonlinearity='relu')\n",
    "\n",
    "model = RNNLM(rnn, vocab_size=len(data.vocab), lr=lr)\n",
    "\n",
    "random_i = torch.randint(0, 100, size=(1,))[0]\n",
    "#random_i = 1022\n",
    "exp_name = f'{lr}{rnn_type}{num_hiddens}{rnn_train_type}{num_steps}_{random_i}'\n",
    "\n",
    "experiment = comet_ml.Experiment()\n",
    "experiment.set_name(exp_name)\n",
    "experiment.log_parameters(hyper_para)\n",
    "model.experiment = experiment\n",
    "\n",
    "model.xlim_0 = 1\n",
    "\n",
    "model.board.figsize = (15, 3.5)\n",
    "\n",
    "\n",
    "max_epochs = 100\n",
    "trainer = d2l.Trainer(max_epochs=max_epochs, gradient_clip_val=gradient_clip_val, num_gpus=1)\n",
    "trainer.fit(model, data)\n",
    "\n",
    "experiment.log_text(model.predict('it has',     40, data.vocab, d2l.try_gpu()))\n",
    "experiment.log_text(model.predict('i love you', 25, data.vocab, d2l.try_gpu()))\n",
    "\n",
    "experiment.end()\n",
    "\n",
    "model.predict('it has', 40, data.vocab, d2l.try_gpu())\n",
    "model.predict('i love you', 25, data.vocab, d2l.try_gpu())"
   ]
  },
  {
   "cell_type": "code",
   "execution_count": 23,
   "metadata": {
    "id": "6dkQSSA4bNRu",
    "tags": []
   },
   "outputs": [
    {
     "data": {
      "text/plain": [
       "'it has and the time traveller the time the tim'"
      ]
     },
     "execution_count": 23,
     "metadata": {},
     "output_type": "execute_result"
    }
   ],
   "source": [
    "model.predict('it has', 40, data.vocab, d2l.try_gpu())\n"
   ]
  },
  {
   "cell_type": "code",
   "execution_count": 24,
   "metadata": {
    "id": "ojPyoqR7bkOV",
    "tags": []
   },
   "outputs": [
    {
     "name": "stderr",
     "output_type": "stream",
     "text": [
      "\u001b[1;38;5;39mCOMET INFO:\u001b[0m ---------------------------------------------------------------------------------------\n",
      "\u001b[1;38;5;39mCOMET INFO:\u001b[0m Comet.ml Experiment Summary\n",
      "\u001b[1;38;5;39mCOMET INFO:\u001b[0m ---------------------------------------------------------------------------------------\n",
      "\u001b[1;38;5;39mCOMET INFO:\u001b[0m   Data:\n",
      "\u001b[1;38;5;39mCOMET INFO:\u001b[0m     display_summary_level : 1\n",
      "\u001b[1;38;5;39mCOMET INFO:\u001b[0m     name                  : 1nn.RNN_clip1_relu32partioning32_45\n",
      "\u001b[1;38;5;39mCOMET INFO:\u001b[0m     url                   : https://www.comet.com/mohamednaji7/d2l-chapter9-rnn-exercises-sega-gpu-2nd/11b3c6e6b9f647048d5f551ddbcf070a\n",
      "\u001b[1;38;5;39mCOMET INFO:\u001b[0m   Metrics [count] (min, max):\n",
      "\u001b[1;38;5;39mCOMET INFO:\u001b[0m     loss [201]       : (1.7638447284698486, 3.310131549835205)\n",
      "\u001b[1;38;5;39mCOMET INFO:\u001b[0m     train_ppl [1000] : (5.719649314880371, 27.38872718811035)\n",
      "\u001b[1;38;5;39mCOMET INFO:\u001b[0m     val_ppl [500]    : (6.147251129150391, 17.752702713012695)\n",
      "\u001b[1;38;5;39mCOMET INFO:\u001b[0m   Others:\n",
      "\u001b[1;38;5;39mCOMET INFO:\u001b[0m     Name : 1nn.RNN_clip1_relu32partioning32_45\n",
      "\u001b[1;38;5;39mCOMET INFO:\u001b[0m   Parameters:\n",
      "\u001b[1;38;5;39mCOMET INFO:\u001b[0m     batch_size      : 1024\n",
      "\u001b[1;38;5;39mCOMET INFO:\u001b[0m     data_vocab_size : 28\n",
      "\u001b[1;38;5;39mCOMET INFO:\u001b[0m     lr              : 1\n",
      "\u001b[1;38;5;39mCOMET INFO:\u001b[0m     num_hiddens     : 32\n",
      "\u001b[1;38;5;39mCOMET INFO:\u001b[0m     num_steps       : 32\n",
      "\u001b[1;38;5;39mCOMET INFO:\u001b[0m     rnn_train_type  : partioning\n",
      "\u001b[1;38;5;39mCOMET INFO:\u001b[0m     rnn_type        : nn.RNN_clip1_relu\n",
      "\u001b[1;38;5;39mCOMET INFO:\u001b[0m   Uploads:\n",
      "\u001b[1;38;5;39mCOMET INFO:\u001b[0m     conda-environment-definition : 1\n",
      "\u001b[1;38;5;39mCOMET INFO:\u001b[0m     conda-info                   : 1\n",
      "\u001b[1;38;5;39mCOMET INFO:\u001b[0m     conda-specification          : 1\n",
      "\u001b[1;38;5;39mCOMET INFO:\u001b[0m     environment details          : 1\n",
      "\u001b[1;38;5;39mCOMET INFO:\u001b[0m     filename                     : 1\n",
      "\u001b[1;38;5;39mCOMET INFO:\u001b[0m     installed packages           : 1\n",
      "\u001b[1;38;5;39mCOMET INFO:\u001b[0m     notebook                     : 1\n",
      "\u001b[1;38;5;39mCOMET INFO:\u001b[0m     os packages                  : 1\n",
      "\u001b[1;38;5;39mCOMET INFO:\u001b[0m     source_code                  : 1\n",
      "\u001b[1;38;5;39mCOMET INFO:\u001b[0m     text-sample                  : 2\n",
      "\u001b[1;38;5;39mCOMET INFO:\u001b[0m \n"
     ]
    },
    {
     "data": {
      "text/plain": [
       "'i love you the time traveller and t'"
      ]
     },
     "execution_count": 24,
     "metadata": {},
     "output_type": "execute_result"
    },
    {
     "data": {
      "image/png": "[encoded data removed]",
      "text/plain": [
       "<Figure size 1500x350 with 1 Axes>"
      ]
     },
     "metadata": {},
     "output_type": "display_data"
    }
   ],
   "source": [
    "batch_size,  num_hiddens, num_steps = 1024, 32, 32\n",
    "lr=1\n",
    "rnn_type = 'nn.RNN_clip1_relu'\n",
    "rnn_train_type =  'partioning'\n",
    "gradient_clip_val = 1\n",
    "data = d2l.TimeMachine(batch_size=batch_size, num_steps=num_steps)\n",
    "hyper_para = {\n",
    "    'batch_size': batch_size,\n",
    "    'num_steps': num_steps,\n",
    "    'lr': lr,\n",
    "    'num_hiddens': num_hiddens,\n",
    "    'rnn_type': rnn_type,\n",
    "    'rnn_train_type': rnn_train_type,\n",
    "    'data_vocab_size': len(data.vocab)\n",
    "}\n",
    "\n",
    "rnn = nn.RNN(len(data.vocab), num_hiddens, nonlinearity='relu')\n",
    "\n",
    "model = RNNLM(rnn, vocab_size=len(data.vocab), lr=lr)\n",
    "\n",
    "random_i = torch.randint(0, 100, size=(1,))[0]\n",
    "#random_i = 1022\n",
    "exp_name = f'{lr}{rnn_type}{num_hiddens}{rnn_train_type}{num_steps}_{random_i}'\n",
    "\n",
    "experiment = comet_ml.Experiment()\n",
    "experiment.set_name(exp_name)\n",
    "experiment.log_parameters(hyper_para)\n",
    "model.experiment = experiment\n",
    "\n",
    "model.xlim_0 = 1\n",
    "\n",
    "model.board.figsize = (15, 3.5)\n",
    "\n",
    "\n",
    "max_epochs = 100\n",
    "trainer = d2l.Trainer(max_epochs=max_epochs, gradient_clip_val=gradient_clip_val, num_gpus=1)\n",
    "trainer.fit(model, data)\n",
    "\n",
    "experiment.log_text(model.predict('it has',     40, data.vocab, d2l.try_gpu()))\n",
    "experiment.log_text(model.predict('i love you', 25, data.vocab, d2l.try_gpu()))\n",
    "\n",
    "experiment.end()\n",
    "\n",
    "model.predict('it has', 40, data.vocab, d2l.try_gpu())\n",
    "model.predict('i love you', 25, data.vocab, d2l.try_gpu())"
   ]
  },
  {
   "cell_type": "code",
   "execution_count": 25,
   "metadata": {
    "id": "oRr3CfVYbqG0",
    "tags": []
   },
   "outputs": [
    {
     "data": {
      "text/plain": [
       "'it has and and and and and and and and and and'"
      ]
     },
     "execution_count": 25,
     "metadata": {},
     "output_type": "execute_result"
    }
   ],
   "source": [
    "model.predict('it has', 40, data.vocab, d2l.try_gpu())\n"
   ]
  },
  {
   "cell_type": "markdown",
   "metadata": {
    "id": "C97hxIYJJzCr"
   },
   "source": [
    "### 1. Adjust the hyperparameters (e.g., number of epochs, number of hidden units, number of time steps in a minibatch, and learning rate) to improve the perplexity. How low can you go while sticking with this simple architecture?"
   ]
  },
  {
   "cell_type": "code",
   "execution_count": 13,
   "metadata": {
    "colab": {
     "base_uri": "https://localhost:8080/"
    },
    "id": "ZVa1rhQWisXf",
    "outputId": "c26b5716-5784-4b46-b068-83ac6968a1ce",
    "tags": []
   },
   "outputs": [
    {
     "data": {
      "text/plain": [
       "173427"
      ]
     },
     "execution_count": 13,
     "metadata": {},
     "output_type": "execute_result"
    }
   ],
   "source": [
    "d2l.TimeMachine(10, 1).X.shape[0]"
   ]
  },
  {
   "cell_type": "code",
   "execution_count": 14,
   "metadata": {
    "colab": {
     "base_uri": "https://localhost:8080/"
    },
    "id": "znfO_r_RDpQ_",
    "outputId": "bd34c09c-0df0-44ca-baaf-fea14d2a96a0",
    "tags": []
   },
   "outputs": [
    {
     "data": {
      "text/plain": [
       "0.5"
      ]
     },
     "execution_count": 14,
     "metadata": {},
     "output_type": "execute_result"
    }
   ],
   "source": [
    "5000/10000"
   ]
  },
  {
   "cell_type": "code",
   "execution_count": 15,
   "metadata": {
    "colab": {
     "base_uri": "https://localhost:8080/"
    },
    "id": "B0E0qTrYxSo1",
    "outputId": "579a15e8-3a3b-4edd-acba-37aec2505472",
    "tags": []
   },
   "outputs": [
    {
     "data": {
      "text/plain": [
       "(546813.828, 54681.3828)"
      ]
     },
     "execution_count": 15,
     "metadata": {},
     "output_type": "execute_result"
    }
   ],
   "source": [
    "num_steps  = {'type': 'integer', 'min': 1, 'scaling_type': 'uniform', 'max': 100}\n",
    "batch_size = {\"type\": \"discrete\", \"values\": [512, 1024, 512*3,  1024*2]}\n",
    "activation = {\"type\": \"categorical\", \"values\": [\"relu\", \"tanh\"]}\n",
    "num_hiddens = {\"type\": \"discrete\", \"values\": [32, 64, 128, 256, 512, 1024]}\n",
    "lr = {\"type\": \"integer\", \"min\": 0.1, \"scaling_type\": \"uniform\", \"max\": 1.0}\n",
    "gradient_clip_val = {\"type\": \"integer\", \"min\": 0.0, \"scaling_type\": \"uniform\", \"max\": 3.0}\n",
    "num_val = {'type': 'integer', 'min': 5000, 'scaling_type': 'uniform', 'max': 10000}\n",
    "num_train = {'type': 'integer', 'min': 10000, 'scaling_type': 'uniform', 'max': d2l.TimeMachine(10, 1).X.shape[0] - num_val['max']}\n",
    "\n",
    "# Define the configuration dictionary\n",
    "hyperparams = {\n",
    "    'num_steps': num_steps,\n",
    "    'batch_size': batch_size,\n",
    "    'activation': activation,\n",
    "    'num_hiddens': num_hiddens,\n",
    "    'lr': lr,\n",
    "    'gradient_clip_val': gradient_clip_val,\n",
    "    'num_val': num_val,\n",
    "    'num_train': num_train\n",
    "}\n",
    "\n",
    "x = 3*len(num_hiddens['values']) * len(batch_size['values']) * \\\n",
    " (num_steps['max'] -  num_steps['min'] )/20 * len(activation['values']) * \\\n",
    " (num_train['max'] -  num_train['min'] )/100 *  (num_val['max'] -  num_val['min'] )/10000\n",
    "x, 0.1*x"
   ]
  },
  {
   "cell_type": "code",
   "execution_count": 16,
   "metadata": {
    "colab": {
     "base_uri": "https://localhost:8080/"
    },
    "id": "m78fMxACEAg1",
    "outputId": "aef4a5a8-5274-45dd-f1ab-3992460320a6",
    "tags": []
   },
   "outputs": [
    {
     "data": {
      "text/plain": [
       "(163427, 6.118939954842223)"
      ]
     },
     "execution_count": 16,
     "metadata": {},
     "output_type": "execute_result"
    }
   ],
   "source": [
    "num_train['max'], num_val['max'] / num_train['max'] *100"
   ]
  },
  {
   "cell_type": "code",
   "execution_count": 17,
   "metadata": {
    "colab": {
     "base_uri": "https://localhost:8080/"
    },
    "id": "CaOhRq1UvjK7",
    "outputId": "6c891215-efb6-4daa-b144-731a0da1913f",
    "tags": []
   },
   "outputs": [
    {
     "data": {
      "text/plain": [
       "8"
      ]
     },
     "execution_count": 17,
     "metadata": {},
     "output_type": "execute_result"
    }
   ],
   "source": [
    "\n",
    "len(hyperparams)"
   ]
  },
  {
   "cell_type": "code",
   "execution_count": 18,
   "metadata": {
    "tags": []
   },
   "outputs": [
    {
     "data": {
      "text/plain": [
       "40856.75"
      ]
     },
     "execution_count": 18,
     "metadata": {},
     "output_type": "execute_result"
    }
   ],
   "source": [
    "128 * num_train['max'] / batch_size['values'][0]"
   ]
  },
  {
   "cell_type": "code",
   "execution_count": 19,
   "metadata": {
    "id": "3u648tiHn5x2",
    "tags": []
   },
   "outputs": [],
   "source": [
    "# Set the spec for the Bayes Optimization algorithm\n",
    "spec = {\n",
    "    \"maxCombo\": 0, # chatgpt: 50, comet: 20\n",
    "    # Use default of 10 times the number of hyperparameters\n",
    "\n",
    "\n",
    "    \"objective\": \"minimize\",\n",
    "\n",
    "    \"metric\": \"opt_val_ppl\",\n",
    "    # The metric name that you are logging and want to minimize or maximize (default loss).\n",
    "\n",
    "    \"minSampleSize\": 500, #chatpgt 150, default 100, comet exmaple :500\n",
    "    # Rule of thumb (5-10 times the number of hyperparameters):\n",
    "    # Suggested minSampleSize: Between 20 and 40.\n",
    "    # Considering the large search space, we can use a small fraction, e.g., 1% of 7200.\n",
    "    #Suggested minSampleSize: Around 70.\n",
    "    #\n",
    "    # The algorithm uses minSampleSize to gather initial data.\n",
    "    # If set to 150, it evaluates 150 different configurations\n",
    "    # to understand the performance landscape.\n",
    "    # BEFORE MAKING MORE REFINED AND TARGETED SEARCHES.\n",
    "    #\n",
    "\n",
    "    \"retryLimit\": 25, #default : 20. chatgpt: 25\n",
    "    # During the optimization process,\n",
    "    # if the algorithm generates a configuration that has already been evaluated,\n",
    "    # it will try up to retryLimit times (25 in this case)\n",
    "    # to come up with a new, unique configuration.\n",
    "\n",
    "    \"retryAssignLimit\": 0, # chatgpt: ,  default: 0\n",
    "    # If an experiment fails or is incomplete,\n",
    "    # the algorithm will reassign it up to retryAssignLimit times\n",
    "    # (5 in this case) to ensure it eventually gets completed.\n",
    "}\n"
   ]
  },
  {
   "cell_type": "code",
   "execution_count": 20,
   "metadata": {
    "id": "v5bKUkwaTr4y",
    "tags": []
   },
   "outputs": [],
   "source": [
    "# defining the configuration dictionary\n",
    "config_dict = {\"algorithm\": \"bayes\",\n",
    "               \"spec\": spec,\n",
    "               \"parameters\": hyperparams,\n",
    "               \"name\": \"Bayes Optimization_i7i\",\n",
    "               \"trials\": 1}"
   ]
  },
  {
   "cell_type": "code",
   "execution_count": 21,
   "metadata": {
    "colab": {
     "base_uri": "https://localhost:8080/"
    },
    "id": "Rvm54nXT7X7D",
    "outputId": "664ad5a3-b19a-4b2e-c16f-805b6f38359d",
    "tags": []
   },
   "outputs": [
    {
     "name": "stderr",
     "output_type": "stream",
     "text": [
      "\u001b[1;38;5;214mCOMET WARNING:\u001b[0m Passing Experiment through Optimizer constructor is deprecated; pass them to Optimizer.get_experiments or Optimizer.next\n",
      "\u001b[1;38;5;39mCOMET INFO:\u001b[0m 759e58fdd575456d9d4598dadc9da81f\n",
      "\u001b[1;38;5;39mCOMET INFO:\u001b[0m Using optimizer config: {'algorithm': 'bayes', 'configSpaceSize': 'infinite', 'endTime': None, 'id': '759e58fdd575456d9d4598dadc9da81f', 'lastUpdateTime': None, 'maxCombo': 0, 'name': 'Bayes Optimization_i7i', 'parameters': {'activation': {'type': 'categorical', 'values': ['relu', 'tanh']}, 'batch_size': {'type': 'discrete', 'values': [512, 1024, 1536, 2048]}, 'gradient_clip_val': {'max': 3.0, 'min': 0.0, 'scalingType': 'uniform', 'scaling_type': 'uniform', 'type': 'integer'}, 'lr': {'max': 1.0, 'min': 0.1, 'scalingType': 'uniform', 'scaling_type': 'uniform', 'type': 'integer'}, 'num_hiddens': {'type': 'discrete', 'values': [32, 64, 128, 256, 512, 1024]}, 'num_steps': {'max': 100, 'min': 1, 'scalingType': 'uniform', 'scaling_type': 'uniform', 'type': 'integer'}, 'num_train': {'max': 163427, 'min': 10000, 'scalingType': 'uniform', 'scaling_type': 'uniform', 'type': 'integer'}, 'num_val': {'max': 10000, 'min': 5000, 'scalingType': 'uniform', 'scaling_type': 'uniform', 'type': 'integer'}}, 'predictor': None, 'spec': {'gridSize': 10, 'maxCombo': 0, 'metric': 'opt_val_ppl', 'minSampleSize': 500, 'objective': 'minimize', 'retryAssignLimit': 0, 'retryLimit': 25}, 'startTime': 2187241174, 'state': {'mode': None, 'seed': None, 'sequence': [], 'sequence_i': 0, 'sequence_pid': None, 'sequence_retry': 0, 'sequence_retry_count': 0}, 'status': 'running', 'suggestion_count': 0, 'trials': 1, 'version': '2.0.26'}\n"
     ]
    }
   ],
   "source": [
    "#project_name = 'draft'\n",
    "opt = comet_ml.Optimizer(project_name=project_name,\n",
    "                config = config_dict)"
   ]
  },
  {
   "cell_type": "code",
   "execution_count": 22,
   "metadata": {
    "id": "Bew6crNsVC9Y",
    "tags": []
   },
   "outputs": [],
   "source": [
    "def get_variables(experiment):\n",
    "        batch_size = experiment.get_parameter(\"batch_size\")\n",
    "        num_hiddens = experiment.get_parameter(\"num_hiddens\")\n",
    "        num_steps = experiment.get_parameter(\"num_steps\")\n",
    "        activation = experiment.get_parameter(\"activation\")\n",
    "        lr = experiment.get_parameter(\"lr\")\n",
    "        gradient_clip_val = experiment.get_parameter(\"gradient_clip_val\")\n",
    "        num_train = experiment.get_parameter(\"num_train\")\n",
    "        num_val = experiment.get_parameter(\"num_val\")\n",
    "\n",
    "        data = d2l.TimeMachine(batch_size, num_steps, num_train, num_val)\n",
    "\n",
    "        rnn_type = f'nn.RNN_clip{gradient_clip_val}_relu'\n",
    "        rnn_train_type =  'partioning'\n",
    "        remaining_para = {\n",
    "        'rnn_type': rnn_type,\n",
    "        'rnn_train_type': rnn_train_type,\n",
    "        'data_vocab_size': len(data.vocab),\n",
    "        }\n",
    "        random_i = torch.randint(0, 100, size=(1,))[0]\n",
    "        exp_name = f'{lr}{rnn_type}{num_hiddens}{rnn_train_type}{num_steps}_rand{random_i}'\n",
    "\n",
    "        return gradient_clip_val, data, batch_size, num_hiddens, num_steps, activation, lr, remaining_para, exp_name"
   ]
  },
  {
   "cell_type": "code",
   "execution_count": null,
   "metadata": {
    "id": "1mCXRSIfOIE_",
    "tags": []
   },
   "outputs": [
    {
     "data": {
      "image/png": "[encoded data removed]",
      "text/plain": [
       "<Figure size 1500x350 with 1 Axes>"
      ]
     },
     "metadata": {},
     "output_type": "display_data"
    }
   ],
   "source": [
    "max_epochs = 128\n",
    "torch.manual_seed(0)\n",
    "mean = lambda x: sum(x) / len(x)\n",
    "for experiment in opt.get_experiments():\n",
    "\n",
    "    gradient_clip_val, data, batch_size, num_hiddens, num_steps, activation, lr,\\\n",
    "    remaining_para, exp_name = get_variables(experiment)\n",
    "\n",
    "    rnn = nn.RNN(len(data.vocab), num_hiddens, nonlinearity=activation)\n",
    "    model = RNNLM(rnn, vocab_size=len(data.vocab), lr=lr)\n",
    "    model.experiment = experiment\n",
    "    model.board.figsize = (15, 3.5)\n",
    "\n",
    "    experiment.log_parameters(remaining_para)\n",
    "    experiment.set_name(exp_name)\n",
    "\n",
    "    trainer = d2l.Trainer(max_epochs=max_epochs, gradient_clip_val=gradient_clip_val, num_gpus=1)\n",
    "    trainer.fit(model, data)\n",
    "\n",
    "\n",
    "    val_ppl_last5p = mean([ p.y for p in model.board.data['val_ppl'][-int(max_epochs*0.05):] ])\n",
    "    experiment.log_metric(\"opt_val_ppl\",  val_ppl_last5p )\n",
    "    \n",
    "    \n",
    "    experiment.log_text(model.predict('it has',     40, data.vocab, d2l.try_gpu()))\n",
    "    experiment.log_text(model.predict('i love you', 25, data.vocab, d2l.try_gpu()))\n",
    "    experiment.end()\n",
    "    gc.collect()\n",
    "    torch.cuda.empty_cache()\n",
    "    del model"
   ]
  },
  {
   "cell_type": "markdown",
   "metadata": {
    "id": "Q2R7dpShJvlD"
   },
   "source": [
    "\n",
    "### 1. Replace one-hot encoding with learnable embeddings. Does this lead to better performance?\n",
    "\n",
    "\n"
   ]
  },
  {
   "cell_type": "code",
   "execution_count": null,
   "metadata": {
    "id": "Voh02JgceCJ_"
   },
   "outputs": [],
   "source": []
  },
  {
   "cell_type": "markdown",
   "metadata": {
    "id": "OsDQwg8Jd2sp"
   },
   "source": [
    "### h  \n"
   ]
  },
  {
   "cell_type": "markdown",
   "metadata": {
    "id": "mtdqG9WqJrPT"
   },
   "source": [
    "1. Conduct another experiment to evaluate the perplexity of this model\n",
    "   on books written by other authors.\n",
    "\n",
    "1. Conduct an experiment to determine how well this language model\n",
    "   trained on *The Time Machine* works on other books by H. G. Wells,\n",
    "   e.g., *The War of the Worlds*."
   ]
  },
  {
   "cell_type": "markdown",
   "metadata": {
    "id": "Il7r8IkTnSBs"
   },
   "source": [
    "### complex arch"
   ]
  },
  {
   "cell_type": "code",
   "execution_count": null,
   "metadata": {
    "id": "12HJZOjPniNY"
   },
   "outputs": [],
   "source": [
    "rnn = nn.RNN(len(data.vocab), num_hiddens, nonlinearity='relu', num_layers =\n",
    "             )"
   ]
  },
  {
   "cell_type": "code",
   "execution_count": null,
   "metadata": {
    "id": "4M6c9v27nWq0"
   },
   "outputs": [],
   "source": [
    "batch_size,  num_hiddens, num_steps = 1024, 32, 32\n",
    "lr=1\n",
    "gradient_clip_val = 0\n",
    "\n",
    "rnn_type = f'nn.RNN_clip{gradient_clip_val}_relu'\n",
    "rnn_train_type =  'partioning'\n",
    "data = d2l.TimeMachine(batch_size=batch_size, num_steps=num_steps)\n",
    "hyper_para = {\n",
    "    'batch_size': batch_size,\n",
    "    'num_steps': num_steps,\n",
    "    'lr': lr,\n",
    "    'num_hiddens': num_hiddens,\n",
    "    'rnn_type': rnn_type,\n",
    "    'rnn_train_type': rnn_train_type,\n",
    "    'data_vocab_size': len(data.vocab)\n",
    "}\n",
    "\n",
    "rnn = nn.RNN(len(data.vocab), num_hiddens, nonlinearity='relu')\n",
    "\n",
    "model = RNNLM(rnn, vocab_size=len(data.vocab), lr=lr)\n",
    "\n",
    "random_i = torch.randint(0, 100, size=(1,))[0]\n",
    "#random_i = 1022\n",
    "exp_name = f'{lr}{rnn_type}{num_hiddens}{rnn_train_type}{num_steps}_{random_i}'\n",
    "\n",
    "experiment = comet_ml.Experiment()\n",
    "experiment.set_name(exp_name)\n",
    "experiment.log_parameters(hyper_para)\n",
    "model.board.experiment = experiment\n",
    "\n",
    "\n",
    "model.xlim_0 = 1\n",
    "\n",
    "model.board.figsize = (15, 3.5)\n",
    "\n",
    "\n",
    "max_epochs = 100\n",
    "trainer = d2l.Trainer(max_epochs=max_epochs, gradient_clip_val=gradient_clip_val, num_gpus=1)\n",
    "trainer.fit(model, data)\n",
    "experiment.end()\n",
    "\n",
    "model.predict('it has', 40, data.vocab, d2l.try_gpu())\n",
    "model.predict('i love you', 25, data.vocab, d2l.try_gpu())"
   ]
  },
  {
   "cell_type": "markdown",
   "metadata": {
    "id": "GCKPB6pQQJQd"
   },
   "source": [
    "### 1. Inserting and Continous state by passing the data.X not to the model but coding it all the way through"
   ]
  },
  {
   "cell_type": "code",
   "execution_count": null,
   "metadata": {
    "id": "m9nWDc1F9yuk"
   },
   "outputs": [],
   "source": []
  },
  {
   "cell_type": "markdown",
   "metadata": {
    "id": "6Uu4Dj5hhDc5"
   },
   "source": [
    "## Testy!"
   ]
  },
  {
   "cell_type": "code",
   "execution_count": null,
   "metadata": {
    "id": "50QEs6DehFnX"
   },
   "outputs": [],
   "source": [
    "batch_size,  num_hiddens, num_steps = 32, 32, 32\n",
    "lr=1\n",
    "gradient_clip_val = 0\n",
    "data = d2l.TimeMachine(batch_size=batch_size, num_steps=num_steps)\n",
    "\n",
    "\n",
    "rnn = nn.RNN(len(data.vocab), num_hiddens)\n",
    "model = RNNLM(rnn, vocab_size=len(data.vocab), lr=lr)\n",
    "\n",
    "max_epochs = 12\n",
    "trainer = d2l.Trainer(max_epochs=max_epochs, gradient_clip_val=gradient_clip_val, num_gpus=1)\n",
    "trainer.fit(model, data)\n",
    "data.X.shape[0], data.num_train, data.num_val"
   ]
  }
 ],
 "metadata": {
  "colab": {
   "collapsed_sections": [
    "mmYCdiAmzNuR",
    "FAchheB5Ms1X",
    "w2Gqd06tL6qB",
    "D6Dntv84U53O",
    "Us1ScOuNVHau",
    "1_NCf8b4V8BJ",
    "o-QWH1KtKPaq",
    "ls6fR012bGR9",
    "Q2R7dpShJvlD",
    "OsDQwg8Jd2sp",
    "Il7r8IkTnSBs"
   ],
   "provenance": []
  },
  "kernelspec": {
   "display_name": "d2l:Python",
   "language": "python",
   "name": "conda-env-d2l-py"
  },
  "language_info": {
   "codemirror_mode": {
    "name": "ipython",
    "version": 3
   },
   "file_extension": ".py",
   "mimetype": "text/x-python",
   "name": "python",
   "nbconvert_exporter": "python",
   "pygments_lexer": "ipython3",
   "version": "3.9.19"
  }
 },
 "nbformat": 4,
 "nbformat_minor": 4
}
